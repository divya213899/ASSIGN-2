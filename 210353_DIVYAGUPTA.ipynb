{
  "cells": [
    {
      "cell_type": "code",
      "execution_count": 14,
      "metadata": {
        "colab": {
          "base_uri": "https://localhost:8080/",
          "height": 74,
          "resources": {
            "http://localhost:8080/nbextensions/google.colab/files.js": {
              "data": "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",
              "headers": [
                [
                  "content-type",
                  "application/javascript"
                ]
              ],
              "ok": true,
              "status": 200,
              "status_text": ""
            }
          }
        },
        "id": "qI9wvXZ1KHtn",
        "outputId": "01a13d4e-664e-4880-872d-b4dc6ef06219"
      },
      "outputs": [
        {
          "data": {
            "text/html": [
              "\n",
              "     <input type=\"file\" id=\"files-356fe909-a942-43fa-97a5-3ee433d9adf7\" name=\"files[]\" multiple disabled\n",
              "        style=\"border:none\" />\n",
              "     <output id=\"result-356fe909-a942-43fa-97a5-3ee433d9adf7\">\n",
              "      Upload widget is only available when the cell has been executed in the\n",
              "      current browser session. Please rerun this cell to enable.\n",
              "      </output>\n",
              "      <script src=\"/nbextensions/google.colab/files.js\"></script> "
            ],
            "text/plain": [
              "<IPython.core.display.HTML object>"
            ]
          },
          "metadata": {},
          "output_type": "display_data"
        },
        {
          "name": "stdout",
          "output_type": "stream",
          "text": [
            "Saving CarPrice_Assignment.csv to CarPrice_Assignment.csv\n"
          ]
        }
      ],
      "source": [
        "from google.colab import files\n",
        "\n",
        "\n",
        "uploaded = files.upload()\n"
      ]
    },
    {
      "cell_type": "code",
      "execution_count": 15,
      "metadata": {
        "colab": {
          "base_uri": "https://localhost:8080/"
        },
        "id": "96atX_fHgewi",
        "outputId": "5e8bedc8-f924-4076-8b67-f04984e78812"
      },
      "outputs": [
        {
          "name": "stdout",
          "output_type": "stream",
          "text": [
            "     car_ID  symboling                   CarName fueltype aspiration  \\\n",
            "0         1          3        alfa-romero giulia      gas        std   \n",
            "1         2          3       alfa-romero stelvio      gas        std   \n",
            "2         3          1  alfa-romero Quadrifoglio      gas        std   \n",
            "3         4          2               audi 100 ls      gas        std   \n",
            "4         5          2                audi 100ls      gas        std   \n",
            "..      ...        ...                       ...      ...        ...   \n",
            "200     201         -1           volvo 145e (sw)      gas        std   \n",
            "201     202         -1               volvo 144ea      gas      turbo   \n",
            "202     203         -1               volvo 244dl      gas        std   \n",
            "203     204         -1                 volvo 246   diesel      turbo   \n",
            "204     205         -1               volvo 264gl      gas      turbo   \n",
            "\n",
            "    doornumber      carbody drivewheel enginelocation  wheelbase  ...  \\\n",
            "0          two  convertible        rwd          front       88.6  ...   \n",
            "1          two  convertible        rwd          front       88.6  ...   \n",
            "2          two    hatchback        rwd          front       94.5  ...   \n",
            "3         four        sedan        fwd          front       99.8  ...   \n",
            "4         four        sedan        4wd          front       99.4  ...   \n",
            "..         ...          ...        ...            ...        ...  ...   \n",
            "200       four        sedan        rwd          front      109.1  ...   \n",
            "201       four        sedan        rwd          front      109.1  ...   \n",
            "202       four        sedan        rwd          front      109.1  ...   \n",
            "203       four        sedan        rwd          front      109.1  ...   \n",
            "204       four        sedan        rwd          front      109.1  ...   \n",
            "\n",
            "     enginesize  fuelsystem  boreratio  stroke compressionratio horsepower  \\\n",
            "0           130        mpfi       3.47    2.68              9.0        111   \n",
            "1           130        mpfi       3.47    2.68              9.0        111   \n",
            "2           152        mpfi       2.68    3.47              9.0        154   \n",
            "3           109        mpfi       3.19    3.40             10.0        102   \n",
            "4           136        mpfi       3.19    3.40              8.0        115   \n",
            "..          ...         ...        ...     ...              ...        ...   \n",
            "200         141        mpfi       3.78    3.15              9.5        114   \n",
            "201         141        mpfi       3.78    3.15              8.7        160   \n",
            "202         173        mpfi       3.58    2.87              8.8        134   \n",
            "203         145         idi       3.01    3.40             23.0        106   \n",
            "204         141        mpfi       3.78    3.15              9.5        114   \n",
            "\n",
            "     peakrpm citympg  highwaympg    price  \n",
            "0       5000      21          27  13495.0  \n",
            "1       5000      21          27  16500.0  \n",
            "2       5000      19          26  16500.0  \n",
            "3       5500      24          30  13950.0  \n",
            "4       5500      18          22  17450.0  \n",
            "..       ...     ...         ...      ...  \n",
            "200     5400      23          28  16845.0  \n",
            "201     5300      19          25  19045.0  \n",
            "202     5500      18          23  21485.0  \n",
            "203     4800      26          27  22470.0  \n",
            "204     5400      19          25  22625.0  \n",
            "\n",
            "[205 rows x 26 columns]\n",
            "     car_ID  symboling                   CarName fueltype aspiration  \\\n",
            "1         2          3       alfa-romero stelvio      gas        std   \n",
            "2         3          1  alfa-romero Quadrifoglio      gas        std   \n",
            "3         4          2               audi 100 ls      gas        std   \n",
            "4         5          2                audi 100ls      gas        std   \n",
            "5         6          2                  audi fox      gas        std   \n",
            "..      ...        ...                       ...      ...        ...   \n",
            "160     161          0             toyota corona      gas        std   \n",
            "161     162          0            toyota corolla      gas        std   \n",
            "162     163          0            toyota mark ii      gas        std   \n",
            "163     164          1   toyota corolla liftback      gas        std   \n",
            "164     165          1             toyota corona      gas        std   \n",
            "\n",
            "    doornumber      carbody drivewheel enginelocation  wheelbase  ...  \\\n",
            "1          two  convertible        rwd          front       88.6  ...   \n",
            "2          two    hatchback        rwd          front       94.5  ...   \n",
            "3         four        sedan        fwd          front       99.8  ...   \n",
            "4         four        sedan        4wd          front       99.4  ...   \n",
            "5          two        sedan        fwd          front       99.8  ...   \n",
            "..         ...          ...        ...            ...        ...  ...   \n",
            "160       four        sedan        fwd          front       95.7  ...   \n",
            "161       four    hatchback        fwd          front       95.7  ...   \n",
            "162       four        sedan        fwd          front       95.7  ...   \n",
            "163        two        sedan        rwd          front       94.5  ...   \n",
            "164        two    hatchback        rwd          front       94.5  ...   \n",
            "\n",
            "     enginesize  fuelsystem  boreratio  stroke compressionratio horsepower  \\\n",
            "1           130        mpfi       3.47    2.68              9.0        111   \n",
            "2           152        mpfi       2.68    3.47              9.0        154   \n",
            "3           109        mpfi       3.19    3.40             10.0        102   \n",
            "4           136        mpfi       3.19    3.40              8.0        115   \n",
            "5           136        mpfi       3.19    3.40              8.5        110   \n",
            "..          ...         ...        ...     ...              ...        ...   \n",
            "160          98        2bbl       3.19    3.03              9.0         70   \n",
            "161          98        2bbl       3.19    3.03              9.0         70   \n",
            "162          98        2bbl       3.19    3.03              9.0         70   \n",
            "163          98        2bbl       3.19    3.03              9.0         70   \n",
            "164          98        2bbl       3.19    3.03              9.0         70   \n",
            "\n",
            "     peakrpm citympg  highwaympg    price  \n",
            "1       5000      21          27  16500.0  \n",
            "2       5000      19          26  16500.0  \n",
            "3       5500      24          30  13950.0  \n",
            "4       5500      18          22  17450.0  \n",
            "5       5500      19          25  15250.0  \n",
            "..       ...     ...         ...      ...  \n",
            "160     4800      38          47   7738.0  \n",
            "161     4800      28          34   8358.0  \n",
            "162     4800      28          34   9258.0  \n",
            "163     4800      29          34   8058.0  \n",
            "164     4800      29          34   8238.0  \n",
            "\n",
            "[164 rows x 26 columns]      car_ID  symboling                       CarName fueltype aspiration  \\\n",
            "164     165          1                 toyota corona      gas        std   \n",
            "165     166          1     toyota celica gt liftback      gas        std   \n",
            "166     167          1         toyota corolla tercel      gas        std   \n",
            "167     168          2        toyota corona liftback      gas        std   \n",
            "168     169          2                toyota corolla      gas        std   \n",
            "169     170          2                toyota starlet      gas        std   \n",
            "170     171          2                 toyota tercel      gas        std   \n",
            "171     172          2                toyota corolla      gas        std   \n",
            "172     173          2               toyota cressida      gas        std   \n",
            "173     174         -1                toyota corolla      gas        std   \n",
            "174     175         -1              toyota celica gt   diesel      turbo   \n",
            "175     176         -1                 toyota corona      gas        std   \n",
            "176     177         -1                toyota corolla      gas        std   \n",
            "177     178         -1                toyota mark ii      gas        std   \n",
            "178     179          3       toyota corolla liftback      gas        std   \n",
            "179     180          3                 toyota corona      gas        std   \n",
            "180     181         -1                toyota starlet      gas        std   \n",
            "181     182         -1                toyouta tercel      gas        std   \n",
            "182     183          2              vokswagen rabbit   diesel        std   \n",
            "183     184          2  volkswagen 1131 deluxe sedan      gas        std   \n",
            "184     185          2          volkswagen model 111   diesel        std   \n",
            "185     186          2             volkswagen type 3      gas        std   \n",
            "186     187          2           volkswagen 411 (sw)      gas        std   \n",
            "187     188          2       volkswagen super beetle   diesel      turbo   \n",
            "188     189          2             volkswagen dasher      gas        std   \n",
            "189     190          3                     vw dasher      gas        std   \n",
            "190     191          3                     vw rabbit      gas        std   \n",
            "191     192          0             volkswagen rabbit      gas        std   \n",
            "192     193          0      volkswagen rabbit custom   diesel      turbo   \n",
            "193     194          0             volkswagen dasher      gas        std   \n",
            "194     195         -2               volvo 145e (sw)      gas        std   \n",
            "195     196         -1                   volvo 144ea      gas        std   \n",
            "196     197         -2                   volvo 244dl      gas        std   \n",
            "197     198         -1                     volvo 245      gas        std   \n",
            "198     199         -2                   volvo 264gl      gas      turbo   \n",
            "199     200         -1                  volvo diesel      gas      turbo   \n",
            "200     201         -1               volvo 145e (sw)      gas        std   \n",
            "201     202         -1                   volvo 144ea      gas      turbo   \n",
            "202     203         -1                   volvo 244dl      gas        std   \n",
            "203     204         -1                     volvo 246   diesel      turbo   \n",
            "204     205         -1                   volvo 264gl      gas      turbo   \n",
            "\n",
            "    doornumber      carbody drivewheel enginelocation  wheelbase  ...  \\\n",
            "164        two    hatchback        rwd          front       94.5  ...   \n",
            "165        two        sedan        rwd          front       94.5  ...   \n",
            "166        two    hatchback        rwd          front       94.5  ...   \n",
            "167        two      hardtop        rwd          front       98.4  ...   \n",
            "168        two      hardtop        rwd          front       98.4  ...   \n",
            "169        two    hatchback        rwd          front       98.4  ...   \n",
            "170        two      hardtop        rwd          front       98.4  ...   \n",
            "171        two    hatchback        rwd          front       98.4  ...   \n",
            "172        two  convertible        rwd          front       98.4  ...   \n",
            "173       four        sedan        fwd          front      102.4  ...   \n",
            "174       four        sedan        fwd          front      102.4  ...   \n",
            "175       four    hatchback        fwd          front      102.4  ...   \n",
            "176       four        sedan        fwd          front      102.4  ...   \n",
            "177       four    hatchback        fwd          front      102.4  ...   \n",
            "178        two    hatchback        rwd          front      102.9  ...   \n",
            "179        two    hatchback        rwd          front      102.9  ...   \n",
            "180       four        sedan        rwd          front      104.5  ...   \n",
            "181       four        wagon        rwd          front      104.5  ...   \n",
            "182        two        sedan        fwd          front       97.3  ...   \n",
            "183        two        sedan        fwd          front       97.3  ...   \n",
            "184       four        sedan        fwd          front       97.3  ...   \n",
            "185       four        sedan        fwd          front       97.3  ...   \n",
            "186       four        sedan        fwd          front       97.3  ...   \n",
            "187       four        sedan        fwd          front       97.3  ...   \n",
            "188       four        sedan        fwd          front       97.3  ...   \n",
            "189        two  convertible        fwd          front       94.5  ...   \n",
            "190        two    hatchback        fwd          front       94.5  ...   \n",
            "191       four        sedan        fwd          front      100.4  ...   \n",
            "192       four        sedan        fwd          front      100.4  ...   \n",
            "193       four        wagon        fwd          front      100.4  ...   \n",
            "194       four        sedan        rwd          front      104.3  ...   \n",
            "195       four        wagon        rwd          front      104.3  ...   \n",
            "196       four        sedan        rwd          front      104.3  ...   \n",
            "197       four        wagon        rwd          front      104.3  ...   \n",
            "198       four        sedan        rwd          front      104.3  ...   \n",
            "199       four        wagon        rwd          front      104.3  ...   \n",
            "200       four        sedan        rwd          front      109.1  ...   \n",
            "201       four        sedan        rwd          front      109.1  ...   \n",
            "202       four        sedan        rwd          front      109.1  ...   \n",
            "203       four        sedan        rwd          front      109.1  ...   \n",
            "204       four        sedan        rwd          front      109.1  ...   \n",
            "\n",
            "     enginesize  fuelsystem  boreratio  stroke compressionratio horsepower  \\\n",
            "164          98        2bbl       3.19    3.03              9.0         70   \n",
            "165          98        mpfi       3.24    3.08              9.4        112   \n",
            "166          98        mpfi       3.24    3.08              9.4        112   \n",
            "167         146        mpfi       3.62    3.50              9.3        116   \n",
            "168         146        mpfi       3.62    3.50              9.3        116   \n",
            "169         146        mpfi       3.62    3.50              9.3        116   \n",
            "170         146        mpfi       3.62    3.50              9.3        116   \n",
            "171         146        mpfi       3.62    3.50              9.3        116   \n",
            "172         146        mpfi       3.62    3.50              9.3        116   \n",
            "173         122        mpfi       3.31    3.54              8.7         92   \n",
            "174         110         idi       3.27    3.35             22.5         73   \n",
            "175         122        mpfi       3.31    3.54              8.7         92   \n",
            "176         122        mpfi       3.31    3.54              8.7         92   \n",
            "177         122        mpfi       3.31    3.54              8.7         92   \n",
            "178         171        mpfi       3.27    3.35              9.3        161   \n",
            "179         171        mpfi       3.27    3.35              9.3        161   \n",
            "180         171        mpfi       3.27    3.35              9.2        156   \n",
            "181         161        mpfi       3.27    3.35              9.2        156   \n",
            "182          97         idi       3.01    3.40             23.0         52   \n",
            "183         109        mpfi       3.19    3.40              9.0         85   \n",
            "184          97         idi       3.01    3.40             23.0         52   \n",
            "185         109        mpfi       3.19    3.40              9.0         85   \n",
            "186         109        mpfi       3.19    3.40              9.0         85   \n",
            "187          97         idi       3.01    3.40             23.0         68   \n",
            "188         109        mpfi       3.19    3.40             10.0        100   \n",
            "189         109        mpfi       3.19    3.40              8.5         90   \n",
            "190         109        mpfi       3.19    3.40              8.5         90   \n",
            "191         136        mpfi       3.19    3.40              8.5        110   \n",
            "192          97         idi       3.01    3.40             23.0         68   \n",
            "193         109        mpfi       3.19    3.40              9.0         88   \n",
            "194         141        mpfi       3.78    3.15              9.5        114   \n",
            "195         141        mpfi       3.78    3.15              9.5        114   \n",
            "196         141        mpfi       3.78    3.15              9.5        114   \n",
            "197         141        mpfi       3.78    3.15              9.5        114   \n",
            "198         130        mpfi       3.62    3.15              7.5        162   \n",
            "199         130        mpfi       3.62    3.15              7.5        162   \n",
            "200         141        mpfi       3.78    3.15              9.5        114   \n",
            "201         141        mpfi       3.78    3.15              8.7        160   \n",
            "202         173        mpfi       3.58    2.87              8.8        134   \n",
            "203         145         idi       3.01    3.40             23.0        106   \n",
            "204         141        mpfi       3.78    3.15              9.5        114   \n",
            "\n",
            "     peakrpm citympg  highwaympg    price  \n",
            "164     4800      29          34   8238.0  \n",
            "165     6600      26          29   9298.0  \n",
            "166     6600      26          29   9538.0  \n",
            "167     4800      24          30   8449.0  \n",
            "168     4800      24          30   9639.0  \n",
            "169     4800      24          30   9989.0  \n",
            "170     4800      24          30  11199.0  \n",
            "171     4800      24          30  11549.0  \n",
            "172     4800      24          30  17669.0  \n",
            "173     4200      29          34   8948.0  \n",
            "174     4500      30          33  10698.0  \n",
            "175     4200      27          32   9988.0  \n",
            "176     4200      27          32  10898.0  \n",
            "177     4200      27          32  11248.0  \n",
            "178     5200      20          24  16558.0  \n",
            "179     5200      19          24  15998.0  \n",
            "180     5200      20          24  15690.0  \n",
            "181     5200      19          24  15750.0  \n",
            "182     4800      37          46   7775.0  \n",
            "183     5250      27          34   7975.0  \n",
            "184     4800      37          46   7995.0  \n",
            "185     5250      27          34   8195.0  \n",
            "186     5250      27          34   8495.0  \n",
            "187     4500      37          42   9495.0  \n",
            "188     5500      26          32   9995.0  \n",
            "189     5500      24          29  11595.0  \n",
            "190     5500      24          29   9980.0  \n",
            "191     5500      19          24  13295.0  \n",
            "192     4500      33          38  13845.0  \n",
            "193     5500      25          31  12290.0  \n",
            "194     5400      23          28  12940.0  \n",
            "195     5400      23          28  13415.0  \n",
            "196     5400      24          28  15985.0  \n",
            "197     5400      24          28  16515.0  \n",
            "198     5100      17          22  18420.0  \n",
            "199     5100      17          22  18950.0  \n",
            "200     5400      23          28  16845.0  \n",
            "201     5300      19          25  19045.0  \n",
            "202     5500      18          23  21485.0  \n",
            "203     4800      26          27  22470.0  \n",
            "204     5400      19          25  22625.0  \n",
            "\n",
            "[41 rows x 26 columns]\n"
          ]
        }
      ],
      "source": [
        "import pandas as pd\n",
        "import io\n",
        " \n",
        "df = pd.read_csv(io.BytesIO(uploaded['CarPrice_Assignment.csv']))\n",
        "print(df)\n",
        "s = len(df)\n",
        "t = df.loc[1:0.8*s,:]\n",
        "t1=df.loc[0.8*s:s,:]\n",
        "v1 = df['carlength']\n",
        "v2 = df['carwidth']\n",
        "v3 = df['carheight']\n",
        "v4 = df['enginesize']\n",
        "v5 = df['stroke']\n",
        "v6 = df['horsepower']\n",
        "y = df['price']\n",
        "print(t,t1)\n"
      ]
    },
    {
      "cell_type": "code",
      "execution_count": 2,
      "metadata": {
        "id": "i_gU-CtMKGmv"
      },
      "outputs": [],
      "source": []
    },
    {
      "cell_type": "code",
      "execution_count": 17,
      "metadata": {
        "colab": {
          "base_uri": "https://localhost:8080/"
        },
        "id": "Oo3zBBa_ghpN",
        "outputId": "6729d72a-2bdd-4551-da42-fe6568e9665e"
      },
      "outputs": [
        {
          "name": "stdout",
          "output_type": "stream",
          "text": [
            "0      168.8\n",
            "1      168.8\n",
            "2      171.2\n",
            "3      176.6\n",
            "4      176.6\n",
            "       ...  \n",
            "200    188.8\n",
            "201    188.8\n",
            "202    188.8\n",
            "203    188.8\n",
            "204    188.8\n",
            "Name: carlength, Length: 205, dtype: float64\n"
          ]
        }
      ],
      "source": [
        "print(v1) #just checking"
      ]
    },
    {
      "cell_type": "markdown",
      "metadata": {
        "id": "-5oy9rrsQ3xC"
      },
      "source": [
        "cost function"
      ]
    },
    {
      "cell_type": "code",
      "execution_count": 16,
      "metadata": {
        "id": "8uR3spHbQwnd"
      },
      "outputs": [],
      "source": [
        "\n",
        "def cost_f(w1, w2, w3, w4, w5, w6, w):\n",
        "    k = 0.0\n",
        "    for i in range (1, int(0.8*s)):\n",
        "        k += (w1*v1[i] + w2*v2[i] + w3*v3[i] + w4*v4[i] + w5*v5[i] + w6*v6[i] + w - y[i])**2\n",
        "    return k/2*(int(0.8*s))  "
      ]
    },
    {
      "cell_type": "code",
      "execution_count": 18,
      "metadata": {
        "id": "iydtOy_kWBKk"
      },
      "outputs": [],
      "source": [
        "\n",
        "def grad_fun1(w1, w2, w3, w4, w5, w6, w):\n",
        "    a = 0.0\n",
        "    for i in range (1, int(0.8*s)):\n",
        "        a += (w1*v1[i] + w2*v2[i] + w3*v3[i] + w4*v4[i] + w5*v5[i] + w6*v6[i] + w - y[i])*v1[i]\n",
        "    return a/(int(0.8*s))\n",
        "\n"
      ]
    },
    {
      "cell_type": "code",
      "execution_count": 19,
      "metadata": {
        "id": "MxoxigN3WFT1"
      },
      "outputs": [],
      "source": [
        "def grad_fun2(w1, w2, w3, w4, w5, w6, w):\n",
        "    a = 0.0\n",
        "    for i in range (1, int(0.8*s)):\n",
        "        a += (w1*v1[i] + w2*v2[i] + w3*v3[i] + w4*v4[i] + w5*v5[i] + w6*v6[i] + w - y[i])*v2[i]\n",
        "    return a/(int(0.8*s))"
      ]
    },
    {
      "cell_type": "code",
      "execution_count": 20,
      "metadata": {
        "id": "12qlM0EdWLwX"
      },
      "outputs": [],
      "source": [
        "def grad_fun3(w1, w2, w3, w4, w5, w6, w):\n",
        "    a = 0.0\n",
        "    for i in range (1, int(0.8*s)):\n",
        "        a += (w1*v1[i] + w2*v2[i] + w3*v3[i] + w4*v4[i] + w5*v5[i] + w6*v6[i] + w - y[i])*v3[i]\n",
        "    return a/(int(0.8*s))"
      ]
    },
    {
      "cell_type": "code",
      "execution_count": 21,
      "metadata": {
        "id": "2xgoUQcOKdXo"
      },
      "outputs": [],
      "source": [
        "def grad_fun4(w1, w2, w3, w4, w5, w6, w):\n",
        "    a = 0.0\n",
        "    for i in range (1, int(0.8*s)):\n",
        "         a+= (w1*v1[i] + w2*v2[i] + w3*v3[i] + w4*v4[i] + w5*v5[i] + w6*v6[i] + w - y[i])*v4[i]\n",
        "    return a/(int(0.8*s))"
      ]
    },
    {
      "cell_type": "code",
      "execution_count": 22,
      "metadata": {
        "id": "-rbE7P8oV3LR"
      },
      "outputs": [],
      "source": [
        "def grad_fun5(w1, w2, w3, w4, w5, w6, w):\n",
        "    a = 0.0\n",
        "    for i in range (1, int(0.8*s)):\n",
        "        a += (w1*v1[i] + w2*v2[i] + w3*v3[i] + w4*v4[i] + w5*v5[i] + w6*v6[i] + w - y[i])*v5[i]\n",
        "    return a/(int(0.8*s))"
      ]
    },
    {
      "cell_type": "code",
      "execution_count": 23,
      "metadata": {
        "id": "lRBdrGR9WX5r"
      },
      "outputs": [],
      "source": [
        "def grad_fun6(w1, w2, w3, w4, w5, w6, w):\n",
        "    a = 0.0\n",
        "    for  i in range (1, int(0.8*s)):\n",
        "        a += (w1*v1[i] + w2*v2[i] + w3*v3[i] + w4*v4[i] + w5*v5[i] + w6*v6[i] + w - y[i])*v6[i]\n",
        "    return a/(int(0.8*s))"
      ]
    },
    {
      "cell_type": "code",
      "execution_count": 24,
      "metadata": {
        "id": "Y3w8Uf4TWh4p"
      },
      "outputs": [],
      "source": [
        "def grad_fun7(w1, w2, w3, w4, w5, w6, w):\n",
        "    a = 0.0\n",
        "    for i in range (1, int(0.8*s)):\n",
        "        a += (w1*v1[i] + w2*v2[i] + w3*v3[i] + w4*v4[i] + w5*v5[i] + w6*v6[i] + w - y[i])\n",
        "    return a/(int(0.8*s))\n",
        "    "
      ]
    },
    {
      "cell_type": "code",
      "execution_count": 25,
      "metadata": {
        "id": "LM5tnjxZWo0m"
      },
      "outputs": [],
      "source": [
        "x = 0.0001\n",
        "w1 = 0\n",
        "w2 = 0\n",
        "w3 = 0\n",
        "w4 = 0\n",
        "w5 = 0\n",
        "w6 = 0\n",
        "w = 0\n",
        "\n",
        "for i in range (1, 500):\n",
        "    w1 = w1 - x*grad_fun1(w1, w2, w3, w4, w5, w6, w)\n",
        "    w2 = w2 - x*grad_fun2(w1, w2, w3, w4, w5, w6, w)\n",
        "    w3 = w3 - x*grad_fun3(w1, w2, w3, w4, w5, w6, w)\n",
        "    w4 = w4 - x*grad_fun4(w1, w2, w3, w4, w5, w6, w)\n",
        "    w5 = w5 - x*grad_fun5(w1, w2, w3, w4, w5, w6, w)\n",
        "    w6 = w6 - x*grad_fun6(w1, w2, w3, w4, w5, w6, w)\n",
        "    w = w - x*grad_fun7(w1, w2, w3, w4, w5, w6, w)"
      ]
    },
    {
      "cell_type": "code",
      "execution_count": 26,
      "metadata": {
        "colab": {
          "base_uri": "https://localhost:8080/"
        },
        "id": "IUidD70UW0gK",
        "outputId": "01b64f5b-00a6-4825-ea4b-0f7677f08aef"
      },
      "outputs": [
        {
          "name": "stdout",
          "output_type": "stream",
          "text": [
            "Actual price is  9298.0   Predicted price is  10795.887596482362\n",
            "Accuracy is  1497.887596482362\n",
            "Actual price is  9538.0   Predicted price is  10795.887596482362\n",
            "Accuracy is  1257.887596482362\n",
            "Actual price is  8449.0   Predicted price is  16816.117159047073\n",
            "Accuracy is  8367.117159047073\n",
            "Actual price is  9639.0   Predicted price is  16816.117159047073\n",
            "Accuracy is  7177.117159047073\n",
            "Actual price is  9989.0   Predicted price is  16816.117159047073\n",
            "Accuracy is  6827.117159047073\n",
            "Actual price is  11199.0   Predicted price is  16816.117159047073\n",
            "Accuracy is  5617.117159047073\n",
            "Actual price is  11549.0   Predicted price is  16816.117159047073\n",
            "Accuracy is  5267.117159047073\n",
            "Actual price is  17669.0   Predicted price is  16765.719212931388\n",
            "Accuracy is  903.280787068612\n",
            "Actual price is  8948.0   Predicted price is  12073.153402127338\n",
            "Accuracy is  3125.1534021273383\n",
            "Actual price is  10698.0   Predicted price is  9414.030146706702\n",
            "Accuracy is  1283.969853293298\n",
            "Actual price is  9988.0   Predicted price is  12123.551348243021\n",
            "Accuracy is  2135.5513482430215\n",
            "Actual price is  10898.0   Predicted price is  12073.153402127338\n",
            "Accuracy is  1175.1534021273383\n",
            "Actual price is  11248.0   Predicted price is  12123.551348243021\n",
            "Accuracy is  875.5513482430215\n",
            "Actual price is  16558.0   Predicted price is  22589.946598499737\n",
            "Accuracy is  6031.946598499737\n",
            "Actual price is  15998.0   Predicted price is  22589.946598499737\n",
            "Accuracy is  6591.946598499737\n",
            "Actual price is  15690.0   Predicted price is  22491.740781399712\n",
            "Accuracy is  6801.740781399712\n",
            "Actual price is  15750.0   Predicted price is  21287.521577086038\n",
            "Accuracy is  5537.521577086038\n",
            "Actual price is  7775.0   Predicted price is  6507.523448390032\n",
            "Accuracy is  1267.4765516099678\n",
            "Actual price is  7975.0   Predicted price is  10068.73800854384\n",
            "Accuracy is  2093.73800854384\n",
            "Actual price is  7995.0   Predicted price is  6507.523448390032\n",
            "Accuracy is  1487.4765516099678\n",
            "Actual price is  8195.0   Predicted price is  10068.73800854384\n",
            "Accuracy is  1873.73800854384\n",
            "Actual price is  8495.0   Predicted price is  10068.73800854384\n",
            "Accuracy is  1573.73800854384\n",
            "Actual price is  9495.0   Predicted price is  7533.53630413665\n",
            "Accuracy is  1961.46369586335\n",
            "Actual price is  9995.0   Predicted price is  11030.625060806295\n",
            "Accuracy is  1035.6250608062946\n",
            "Actual price is  11595.0   Predicted price is  10233.777502714598\n",
            "Accuracy is  1361.222497285402\n",
            "Actual price is  9980.0   Predicted price is  10672.155663366008\n",
            "Accuracy is  692.1556633660075\n",
            "Actual price is  13295.0   Predicted price is  14979.605261506154\n",
            "Accuracy is  1684.6052615061544\n",
            "Actual price is  13845.0   Predicted price is  7589.866618347948\n",
            "Accuracy is  6255.133381652052\n",
            "Actual price is  12290.0   Predicted price is  10405.209584246504\n",
            "Accuracy is  1884.7904157534958\n",
            "Actual price is  12940.0   Predicted price is  15999.211422231188\n",
            "Accuracy is  3059.2114222311884\n",
            "Actual price is  13415.0   Predicted price is  15933.6940922808\n",
            "Accuracy is  2518.6940922808008\n",
            "Actual price is  15985.0   Predicted price is  15999.211422231188\n",
            "Accuracy is  14.211422231188408\n",
            "Actual price is  16515.0   Predicted price is  15933.6940922808\n",
            "Accuracy is  581.3059077191992\n",
            "Actual price is  18420.0   Predicted price is  17752.608864725993\n",
            "Accuracy is  667.391135274007\n",
            "Actual price is  18950.0   Predicted price is  17687.091534775605\n",
            "Accuracy is  1262.9084652243946\n",
            "Actual price is  16845.0   Predicted price is  15753.8110872067\n",
            "Accuracy is  1091.188912793299\n",
            "Actual price is  19045.0   Predicted price is  18720.108570849134\n",
            "Accuracy is  324.8914291508663\n",
            "Actual price is  21485.0   Predicted price is  20896.209745785138\n",
            "Accuracy is  588.7902542148622\n",
            "Actual price is  22470.0   Predicted price is  15716.794899012964\n",
            "Accuracy is  6753.205100987036\n",
            "Actual price is  22625.0   Predicted price is  15753.8110872067\n",
            "Accuracy is  6871.188912793299\n"
          ]
        }
      ],
      "source": [
        "#testing\n",
        "for i in range (165, 205):\n",
        "    pred = w1*v1[i] + w2*v2[i] + w3*v3[i] + w4*v4[i] + w5*v5[i] + w6*v6[i] + w\n",
        "    print(\"Actual price is \", y[i], \"  Predicted price is \", pred)\n",
        "    print(\"Accuracy is \", abs(pred - y[i]))"
      ]
    },
    {
      "cell_type": "markdown",
      "metadata": {
        "id": "_4-g2qkL6y18"
      },
      "source": [
        "assing-part(B)"
      ]
    },
    {
      "cell_type": "code",
      "execution_count": 27,
      "metadata": {
        "colab": {
          "base_uri": "https://localhost:8080/"
        },
        "id": "AJnyGGIyY1EU",
        "outputId": "faa3c5ef-95b0-4ea3-cb7b-89d58ad35096"
      },
      "outputs": [
        {
          "name": "stdout",
          "output_type": "stream",
          "text": [
            "The price of the car is  21240.141564259226\n"
          ]
        }
      ],
      "source": [
        "carlength = 190.9\n",
        "carwidth = 70.3\n",
        "carheight = 54.9\n",
        "enginesize = 183\n",
        "stroke = 3.64\n",
        "horsepower = 123\n",
        "price = w1*carlength + w2*carwidth + w3*carheight + w4*enginesize + w5*stroke + w6*horsepower + w\n",
        "\n",
        "print(\"The price of the car is \", price)"
      ]
    },
    {
      "cell_type": "code",
      "execution_count": 27,
      "metadata": {
        "id": "036Jeua8Z8VL"
      },
      "outputs": [],
      "source": []
    }
  ],
  "metadata": {
    "colab": {
      "name": "210353_Divya",
      "provenance": []
    },
    "kernelspec": {
      "display_name": "Python 3",
      "name": "python3"
    },
    "language_info": {
      "name": "python"
    }
  },
  "nbformat": 4,
  "nbformat_minor": 0
}
